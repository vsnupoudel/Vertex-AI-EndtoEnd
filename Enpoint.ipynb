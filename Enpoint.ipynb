{
 "cells": [
  {
   "cell_type": "code",
   "execution_count": 56,
   "id": "88126228-a3e3-4757-836c-6c9ad684cb23",
   "metadata": {},
   "outputs": [],
   "source": [
    "import google.auth\n",
    "credentials, project = google.auth.default()"
   ]
  },
  {
   "cell_type": "code",
   "execution_count": 62,
   "id": "40f1f44b-7d02-4ceb-8a09-14b4ce3d8d50",
   "metadata": {},
   "outputs": [
    {
     "name": "stdout",
     "output_type": "stream",
     "text": [
      "response\n",
      " deployed_model_id: 2668791797542551552\n",
      " prediction: {'classes': ['no', 'yes'], 'scores': [0.997766375541687, 0.002233546227216721]}\n"
     ]
    }
   ],
   "source": [
    "!python invoke_endpoint.py ./test.csv"
   ]
  },
  {
   "cell_type": "markdown",
   "id": "71c0440a-ce1a-4cc4-81e7-55086817fa7c",
   "metadata": {},
   "source": [
    "## Testing"
   ]
  },
  {
   "cell_type": "code",
   "execution_count": 41,
   "id": "836e3285-1148-4a92-802e-719a64d1ae48",
   "metadata": {},
   "outputs": [],
   "source": [
    "from google.protobuf import json_format\n",
    "from google.protobuf.struct_pb2 import Value\n"
   ]
  },
  {
   "cell_type": "code",
   "execution_count": 71,
   "id": "dddd80e2-52ed-4ea7-869b-c983931fcd69",
   "metadata": {},
   "outputs": [
    {
     "name": "stdout",
     "output_type": "stream",
     "text": [
      "{'id': 1, 'state': 'KS', 'account_length': 128, 'area_code': 'area_code_415', 'international_plan': 'no', 'voice_mail_plan': 'yes', 'number_vmail_messages': 25, 'total_day_minutes': 265.1, 'total_day_calls': 110, 'total_day_charge': 45.07, 'total_eve_minutes': 197.4, 'total_eve_calls': 99, 'total_eve_charge': 16.78, 'total_night_minutes': 244.7, 'total_night_calls': 91, 'total_night_charge': 11.01, 'total_intl_minutes': 10.0, 'total_intl_calls': 3, 'total_intl_charge': 2.7, 'number_customer_service_calls': 1}\n"
     ]
    }
   ],
   "source": [
    "import json, sys\n",
    "from pathlib import Path \n",
    "import pandas as pd\n",
    "\n",
    "df = pd.read_csv('test.csv', nrows=1)\n",
    "for row_dict in df.to_dict(orient=\"records\"):\n",
    "    print(row_dict)\n",
    "\n",
    "# dicts = df.to_dict('records')\n",
    "# json_format.ParseDict(dicts[0], Value())"
   ]
  },
  {
   "cell_type": "code",
   "execution_count": 72,
   "id": "05901ad4-ccc7-43de-877a-7d71a9bb3f22",
   "metadata": {},
   "outputs": [
    {
     "data": {
      "text/plain": [
       "id                                 int64\n",
       "state                             object\n",
       "account_length                     int64\n",
       "area_code                         object\n",
       "international_plan                object\n",
       "voice_mail_plan                   object\n",
       "number_vmail_messages              int64\n",
       "total_day_minutes                float64\n",
       "total_day_calls                    int64\n",
       "total_day_charge                 float64\n",
       "total_eve_minutes                float64\n",
       "total_eve_calls                    int64\n",
       "total_eve_charge                 float64\n",
       "total_night_minutes              float64\n",
       "total_night_calls                  int64\n",
       "total_night_charge               float64\n",
       "total_intl_minutes               float64\n",
       "total_intl_calls                   int64\n",
       "total_intl_charge                float64\n",
       "number_customer_service_calls      int64\n",
       "dtype: object"
      ]
     },
     "execution_count": 72,
     "metadata": {},
     "output_type": "execute_result"
    }
   ],
   "source": [
    "df.dtypes"
   ]
  },
  {
   "cell_type": "code",
   "execution_count": null,
   "id": "39ded753-005e-4937-b5a9-da29aeb624ce",
   "metadata": {},
   "outputs": [],
   "source": []
  }
 ],
 "metadata": {
  "kernelspec": {
   "display_name": "Python 3 (ipykernel)",
   "language": "python",
   "name": "python3"
  },
  "language_info": {
   "codemirror_mode": {
    "name": "ipython",
    "version": 3
   },
   "file_extension": ".py",
   "mimetype": "text/x-python",
   "name": "python",
   "nbconvert_exporter": "python",
   "pygments_lexer": "ipython3",
   "version": "3.10.6"
  }
 },
 "nbformat": 4,
 "nbformat_minor": 5
}
