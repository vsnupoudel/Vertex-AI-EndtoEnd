{
 "cells": [
  {
   "cell_type": "code",
   "execution_count": 1,
   "id": "9ea8971a-dfae-4ce6-9591-03bc9f262b0e",
   "metadata": {},
   "outputs": [],
   "source": [
    "import pandas as pd\n",
    "import xgboost as xgb\n",
    "import numpy as np\n",
    "\n",
    "from sklearn.model_selection import train_test_split\n",
    "from sklearn.utils import shuffle\n",
    "from google.cloud import bigquery"
   ]
  },
  {
   "cell_type": "code",
   "execution_count": 2,
   "id": "da57e580-96b6-4ff5-8b48-58f897aaf1b9",
   "metadata": {},
   "outputs": [
    {
     "data": {
      "text/html": [
       "<div>\n",
       "<style scoped>\n",
       "    .dataframe tbody tr th:only-of-type {\n",
       "        vertical-align: middle;\n",
       "    }\n",
       "\n",
       "    .dataframe tbody tr th {\n",
       "        vertical-align: top;\n",
       "    }\n",
       "\n",
       "    .dataframe thead th {\n",
       "        text-align: right;\n",
       "    }\n",
       "</style>\n",
       "<table border=\"1\" class=\"dataframe\">\n",
       "  <thead>\n",
       "    <tr style=\"text-align: right;\">\n",
       "      <th></th>\n",
       "      <th>weight_pounds</th>\n",
       "      <th>is_male</th>\n",
       "      <th>mother_age</th>\n",
       "      <th>plurality</th>\n",
       "      <th>gestation_weeks</th>\n",
       "    </tr>\n",
       "  </thead>\n",
       "  <tbody>\n",
       "    <tr>\n",
       "      <th>0</th>\n",
       "      <td>7.561856</td>\n",
       "      <td>False</td>\n",
       "      <td>30</td>\n",
       "      <td>1</td>\n",
       "      <td>40</td>\n",
       "    </tr>\n",
       "    <tr>\n",
       "      <th>1</th>\n",
       "      <td>7.749249</td>\n",
       "      <td>False</td>\n",
       "      <td>34</td>\n",
       "      <td>1</td>\n",
       "      <td>40</td>\n",
       "    </tr>\n",
       "    <tr>\n",
       "      <th>2</th>\n",
       "      <td>8.313632</td>\n",
       "      <td>True</td>\n",
       "      <td>27</td>\n",
       "      <td>1</td>\n",
       "      <td>38</td>\n",
       "    </tr>\n",
       "    <tr>\n",
       "      <th>3</th>\n",
       "      <td>7.438397</td>\n",
       "      <td>True</td>\n",
       "      <td>27</td>\n",
       "      <td>1</td>\n",
       "      <td>37</td>\n",
       "    </tr>\n",
       "    <tr>\n",
       "      <th>4</th>\n",
       "      <td>9.124933</td>\n",
       "      <td>True</td>\n",
       "      <td>20</td>\n",
       "      <td>1</td>\n",
       "      <td>41</td>\n",
       "    </tr>\n",
       "  </tbody>\n",
       "</table>\n",
       "</div>"
      ],
      "text/plain": [
       "   weight_pounds  is_male  mother_age  plurality  gestation_weeks\n",
       "0       7.561856    False          30          1               40\n",
       "1       7.749249    False          34          1               40\n",
       "2       8.313632     True          27          1               38\n",
       "3       7.438397     True          27          1               37\n",
       "4       9.124933     True          20          1               41"
      ]
     },
     "execution_count": 2,
     "metadata": {},
     "output_type": "execute_result"
    }
   ],
   "source": [
    "query=\"\"\"\n",
    "SELECT\n",
    "  weight_pounds,\n",
    "  is_male,\n",
    "  mother_age,\n",
    "  plurality,\n",
    "  gestation_weeks\n",
    "FROM\n",
    "  publicdata.samples.natality\n",
    "WHERE year > 2000\n",
    "LIMIT 10000\n",
    "\"\"\"\n",
    "df = bigquery.Client().query(query).to_dataframe()\n",
    "df.head()"
   ]
  },
  {
   "cell_type": "code",
   "execution_count": 3,
   "id": "47ff8391-67e8-437c-add7-9a08445323ed",
   "metadata": {},
   "outputs": [
    {
     "data": {
      "text/html": [
       "<div>\n",
       "<style scoped>\n",
       "    .dataframe tbody tr th:only-of-type {\n",
       "        vertical-align: middle;\n",
       "    }\n",
       "\n",
       "    .dataframe tbody tr th {\n",
       "        vertical-align: top;\n",
       "    }\n",
       "\n",
       "    .dataframe thead th {\n",
       "        text-align: right;\n",
       "    }\n",
       "</style>\n",
       "<table border=\"1\" class=\"dataframe\">\n",
       "  <thead>\n",
       "    <tr style=\"text-align: right;\">\n",
       "      <th></th>\n",
       "      <th>weight_pounds</th>\n",
       "      <th>is_male</th>\n",
       "      <th>mother_age</th>\n",
       "      <th>plurality</th>\n",
       "      <th>gestation_weeks</th>\n",
       "    </tr>\n",
       "  </thead>\n",
       "  <tbody>\n",
       "    <tr>\n",
       "      <th>count</th>\n",
       "      <td>9990.000000</td>\n",
       "      <td>10000</td>\n",
       "      <td>10000.000000</td>\n",
       "      <td>10000.000000</td>\n",
       "      <td>9951.000000</td>\n",
       "    </tr>\n",
       "    <tr>\n",
       "      <th>unique</th>\n",
       "      <td>NaN</td>\n",
       "      <td>2</td>\n",
       "      <td>NaN</td>\n",
       "      <td>NaN</td>\n",
       "      <td>NaN</td>\n",
       "    </tr>\n",
       "    <tr>\n",
       "      <th>top</th>\n",
       "      <td>NaN</td>\n",
       "      <td>True</td>\n",
       "      <td>NaN</td>\n",
       "      <td>NaN</td>\n",
       "      <td>NaN</td>\n",
       "    </tr>\n",
       "    <tr>\n",
       "      <th>freq</th>\n",
       "      <td>NaN</td>\n",
       "      <td>5136</td>\n",
       "      <td>NaN</td>\n",
       "      <td>NaN</td>\n",
       "      <td>NaN</td>\n",
       "    </tr>\n",
       "    <tr>\n",
       "      <th>mean</th>\n",
       "      <td>7.260462</td>\n",
       "      <td>NaN</td>\n",
       "      <td>27.352000</td>\n",
       "      <td>1.034400</td>\n",
       "      <td>38.657321</td>\n",
       "    </tr>\n",
       "    <tr>\n",
       "      <th>std</th>\n",
       "      <td>1.324675</td>\n",
       "      <td>NaN</td>\n",
       "      <td>6.140233</td>\n",
       "      <td>0.191886</td>\n",
       "      <td>2.579655</td>\n",
       "    </tr>\n",
       "    <tr>\n",
       "      <th>min</th>\n",
       "      <td>0.500449</td>\n",
       "      <td>NaN</td>\n",
       "      <td>13.000000</td>\n",
       "      <td>1.000000</td>\n",
       "      <td>17.000000</td>\n",
       "    </tr>\n",
       "    <tr>\n",
       "      <th>25%</th>\n",
       "      <td>6.624891</td>\n",
       "      <td>NaN</td>\n",
       "      <td>22.000000</td>\n",
       "      <td>1.000000</td>\n",
       "      <td>38.000000</td>\n",
       "    </tr>\n",
       "    <tr>\n",
       "      <th>50%</th>\n",
       "      <td>7.364542</td>\n",
       "      <td>NaN</td>\n",
       "      <td>27.000000</td>\n",
       "      <td>1.000000</td>\n",
       "      <td>39.000000</td>\n",
       "    </tr>\n",
       "    <tr>\n",
       "      <th>75%</th>\n",
       "      <td>8.062305</td>\n",
       "      <td>NaN</td>\n",
       "      <td>32.000000</td>\n",
       "      <td>1.000000</td>\n",
       "      <td>40.000000</td>\n",
       "    </tr>\n",
       "    <tr>\n",
       "      <th>max</th>\n",
       "      <td>11.874097</td>\n",
       "      <td>NaN</td>\n",
       "      <td>47.000000</td>\n",
       "      <td>4.000000</td>\n",
       "      <td>47.000000</td>\n",
       "    </tr>\n",
       "  </tbody>\n",
       "</table>\n",
       "</div>"
      ],
      "text/plain": [
       "        weight_pounds is_male    mother_age     plurality  gestation_weeks\n",
       "count     9990.000000   10000  10000.000000  10000.000000      9951.000000\n",
       "unique            NaN       2           NaN           NaN              NaN\n",
       "top               NaN    True           NaN           NaN              NaN\n",
       "freq              NaN    5136           NaN           NaN              NaN\n",
       "mean         7.260462     NaN     27.352000      1.034400        38.657321\n",
       "std          1.324675     NaN      6.140233      0.191886         2.579655\n",
       "min          0.500449     NaN     13.000000      1.000000        17.000000\n",
       "25%          6.624891     NaN     22.000000      1.000000        38.000000\n",
       "50%          7.364542     NaN     27.000000      1.000000        39.000000\n",
       "75%          8.062305     NaN     32.000000      1.000000        40.000000\n",
       "max         11.874097     NaN     47.000000      4.000000        47.000000"
      ]
     },
     "execution_count": 3,
     "metadata": {},
     "output_type": "execute_result"
    }
   ],
   "source": [
    "df.describe()"
   ]
  },
  {
   "cell_type": "code",
   "execution_count": 4,
   "id": "635107d4-b6e3-4d5e-a1a1-3b9d6f9b77e6",
   "metadata": {},
   "outputs": [
    {
     "data": {
      "text/plain": [
       "True     5136\n",
       "False    4864\n",
       "Name: is_male, dtype: Int64"
      ]
     },
     "execution_count": 4,
     "metadata": {},
     "output_type": "execute_result"
    }
   ],
   "source": [
    "df['is_male'].value_counts()"
   ]
  },
  {
   "cell_type": "code",
   "execution_count": 5,
   "id": "56f45de9-c838-40dd-b012-12145e5d2f4f",
   "metadata": {},
   "outputs": [
    {
     "data": {
      "text/plain": [
       "weight_pounds      10\n",
       "is_male             0\n",
       "mother_age          0\n",
       "plurality           0\n",
       "gestation_weeks    49\n",
       "dtype: int64"
      ]
     },
     "execution_count": 5,
     "metadata": {},
     "output_type": "execute_result"
    }
   ],
   "source": [
    "df.isna().sum()"
   ]
  },
  {
   "cell_type": "code",
   "execution_count": 6,
   "id": "9ca88219-f4bf-4f5a-8ccb-d0569bd07962",
   "metadata": {},
   "outputs": [],
   "source": [
    "df = df.dropna()\n",
    "df = shuffle(df, random_state=2)"
   ]
  },
  {
   "cell_type": "code",
   "execution_count": 7,
   "id": "989bce3b-750b-46b7-b856-5c7b54a82814",
   "metadata": {},
   "outputs": [],
   "source": [
    "labels = df['weight_pounds']\n",
    "data = df.drop(columns=['weight_pounds'])"
   ]
  },
  {
   "cell_type": "code",
   "execution_count": 8,
   "id": "3afa3b89-64fd-4a02-93f7-e7cfdf90a8c4",
   "metadata": {},
   "outputs": [],
   "source": [
    "data['is_male'] = data['is_male'].astype(int)"
   ]
  },
  {
   "cell_type": "code",
   "execution_count": 9,
   "id": "3d40a3e9-5057-4502-8ca5-5edc1b567a78",
   "metadata": {},
   "outputs": [],
   "source": [
    "x,y = data,labels\n",
    "x_train,x_test,y_train,y_test = train_test_split(x,y)"
   ]
  },
  {
   "cell_type": "code",
   "execution_count": 10,
   "id": "1381983d-f2fb-43aa-84ef-9b706360c877",
   "metadata": {},
   "outputs": [],
   "source": [
    "model = xgb.XGBRegressor(\n",
    "    objective='reg:squarederror'\n",
    ")"
   ]
  },
  {
   "cell_type": "code",
   "execution_count": 14,
   "id": "15506205-c2a8-47cb-9299-660e50d97555",
   "metadata": {},
   "outputs": [
    {
     "data": {
      "text/plain": [
       "dtype('float64')"
      ]
     },
     "execution_count": 14,
     "metadata": {},
     "output_type": "execute_result"
    }
   ],
   "source": [
    "y_train.dtypes"
   ]
  },
  {
   "cell_type": "code",
   "execution_count": 17,
   "id": "16742981-d8da-4445-a4b8-1ba773bfe6c6",
   "metadata": {},
   "outputs": [
    {
     "data": {
      "text/plain": [
       "XGBRegressor(base_score=0.5, booster='gbtree', colsample_bylevel=1,\n",
       "             colsample_bynode=1, colsample_bytree=1, gamma=0, gpu_id=-1,\n",
       "             importance_type='gain', interaction_constraints='',\n",
       "             learning_rate=0.300000012, max_delta_step=0, max_depth=6,\n",
       "             min_child_weight=1, missing=nan, monotone_constraints='()',\n",
       "             n_estimators=100, n_jobs=4, num_parallel_tree=1, random_state=0,\n",
       "             reg_alpha=0, reg_lambda=1, scale_pos_weight=1, subsample=1,\n",
       "             tree_method='exact', validate_parameters=1, verbosity=None)"
      ]
     },
     "execution_count": 17,
     "metadata": {},
     "output_type": "execute_result"
    }
   ],
   "source": [
    "model.fit( x_train.values, y_train.values )"
   ]
  },
  {
   "cell_type": "code",
   "execution_count": 18,
   "id": "3007fc4f-a555-4a08-bd4f-81b3e7d60dfb",
   "metadata": {},
   "outputs": [],
   "source": [
    "y_pred = model.predict(x_test.values)"
   ]
  },
  {
   "cell_type": "code",
   "execution_count": 19,
   "id": "707ed6a7-751d-45a2-8dcb-062cecf3ca9b",
   "metadata": {},
   "outputs": [
    {
     "name": "stdout",
     "output_type": "stream",
     "text": [
      "Predicted weight:  7.1952724\n",
      "Actual weight:  7.25100379718\n",
      "\n",
      "Predicted weight:  7.5855474\n",
      "Actual weight:  8.375361333379999\n",
      "\n",
      "Predicted weight:  7.4657526\n",
      "Actual weight:  8.375361333379999\n",
      "\n",
      "Predicted weight:  6.9071813\n",
      "Actual weight:  7.5618555866\n",
      "\n",
      "Predicted weight:  7.649332\n",
      "Actual weight:  8.12623897732\n",
      "\n",
      "Predicted weight:  7.4163094\n",
      "Actual weight:  5.98995965854\n",
      "\n",
      "Predicted weight:  7.1451097\n",
      "Actual weight:  5.93704871566\n",
      "\n",
      "Predicted weight:  8.054473\n",
      "Actual weight:  6.4992274837599995\n",
      "\n",
      "Predicted weight:  7.709208\n",
      "Actual weight:  7.10770332688\n",
      "\n",
      "Predicted weight:  7.8527303\n",
      "Actual weight:  6.62709559572\n",
      "\n",
      "Predicted weight:  8.13757\n",
      "Actual weight:  7.8374334140999995\n",
      "\n",
      "Predicted weight:  7.3027678\n",
      "Actual weight:  6.4374980503999994\n",
      "\n",
      "Predicted weight:  7.401359\n",
      "Actual weight:  7.8837304891199995\n",
      "\n",
      "Predicted weight:  6.4014626\n",
      "Actual weight:  5.2029093832\n",
      "\n",
      "Predicted weight:  7.35351\n",
      "Actual weight:  6.8122838958\n",
      "\n",
      "Predicted weight:  7.571242\n",
      "Actual weight:  7.12534030784\n",
      "\n",
      "Predicted weight:  7.4046474\n",
      "Actual weight:  5.5005334369\n",
      "\n",
      "Predicted weight:  7.8774333\n",
      "Actual weight:  7.81318256528\n",
      "\n",
      "Predicted weight:  8.05068\n",
      "Actual weight:  7.5618555866\n",
      "\n",
      "Predicted weight:  7.827045\n",
      "Actual weight:  6.5477291814\n",
      "\n"
     ]
    }
   ],
   "source": [
    "for i in range(20):\n",
    "    print('Predicted weight: ', y_pred[i])\n",
    "    print('Actual weight: ', y_test.iloc[i])\n",
    "    print()"
   ]
  },
  {
   "cell_type": "code",
   "execution_count": 20,
   "id": "e969e18a-7abb-4635-ba9b-9259ba06062a",
   "metadata": {},
   "outputs": [],
   "source": [
    "model.save_model('model.bst')"
   ]
  },
  {
   "cell_type": "code",
   "execution_count": 21,
   "id": "8b816949-95e3-4905-8d20-f3f73ec52736",
   "metadata": {},
   "outputs": [
    {
     "name": "stdout",
     "output_type": "stream",
     "text": [
      "turnkey-banner-371806\n"
     ]
    }
   ],
   "source": [
    "!gcloud config list project --format \"value(core.project)\""
   ]
  },
  {
   "cell_type": "code",
   "execution_count": 22,
   "id": "b50aefef-c8c2-4c68-94f8-c4641cd4d6f6",
   "metadata": {},
   "outputs": [],
   "source": [
    "# Update these to your own GCP project, model, and version names\n",
    "GCP_PROJECT = 'turnkey-banner-371806'\n",
    "MODEL_BUCKET = 'gs://'+GCP_PROJECT\n",
    "VERSION_NAME = 'v1'\n",
    "MODEL_NAME = 'baby_weight'"
   ]
  },
  {
   "cell_type": "code",
   "execution_count": 23,
   "id": "680b70a9-c84c-4c90-8fbe-7b414d7547ce",
   "metadata": {},
   "outputs": [
    {
     "name": "stdout",
     "output_type": "stream",
     "text": [
      "Creating gs://turnkey-banner-371806/...\n"
     ]
    }
   ],
   "source": [
    "!gsutil mb $MODEL_BUCKET"
   ]
  },
  {
   "cell_type": "code",
   "execution_count": 24,
   "id": "d5957358-a6e1-4133-8cf6-dd8fdd4a4a5d",
   "metadata": {},
   "outputs": [
    {
     "name": "stdout",
     "output_type": "stream",
     "text": [
      "Copying file://./model.bst [Content-Type=application/octet-stream]...\n",
      "/ [1 files][314.1 KiB/314.1 KiB]                                                \n",
      "Operation completed over 1 objects/314.1 KiB.                                    \n"
     ]
    }
   ],
   "source": [
    "!gsutil cp ./model.bst $MODEL_BUCKET"
   ]
  },
  {
   "cell_type": "code",
   "execution_count": 27,
   "id": "8678f09e-834c-4caa-ab3c-0e520fd5949c",
   "metadata": {},
   "outputs": [
    {
     "name": "stdout",
     "output_type": "stream",
     "text": [
      "Using endpoint [https://us-central1-ml.googleapis.com/]\n",
      "Created ai platform model [projects/turnkey-banner-371806/models/baby_weight].\n"
     ]
    }
   ],
   "source": [
    "!gcloud ai-platform models create $MODEL_NAME --region=us-central1"
   ]
  },
  {
   "cell_type": "code",
   "execution_count": 28,
   "id": "ad395e15-4075-49c7-a87f-21d31231fb9b",
   "metadata": {},
   "outputs": [
    {
     "name": "stdout",
     "output_type": "stream",
     "text": [
      "Using endpoint [https://us-central1-ml.googleapis.com/]\n",
      "Creating version (this might take a few minutes)......done.                    \n"
     ]
    }
   ],
   "source": [
    "!gcloud ai-platform versions create $VERSION_NAME \\\n",
    "--model=$MODEL_NAME \\\n",
    "--framework='XGBOOST' \\\n",
    "--runtime-version=2.5 \\\n",
    "--origin=$MODEL_BUCKET \\\n",
    "--python-version=3.7 \\\n",
    "--project=$GCP_PROJECT \\\n",
    "--region=us-central1"
   ]
  },
  {
   "cell_type": "code",
   "execution_count": 29,
   "id": "5e20e8ab-a5c5-44ad-91e9-9d60c91b6c9f",
   "metadata": {},
   "outputs": [
    {
     "name": "stdout",
     "output_type": "stream",
     "text": [
      "Writing predictions.json\n"
     ]
    }
   ],
   "source": [
    "%%writefile predictions.json\n",
    "[0.0, 33.0, 1.0, 27.0]\n",
    "[1.0, 26.0, 1.0, 40.0]\n"
   ]
  },
  {
   "cell_type": "code",
   "execution_count": 30,
   "id": "e8792568-2037-44d0-a363-b0ab27085b8e",
   "metadata": {},
   "outputs": [
    {
     "name": "stdout",
     "output_type": "stream",
     "text": [
      "Using endpoint [https://us-central1-ml.googleapis.com/] [1.6867361068725586, 7.945723056793213]\n"
     ]
    }
   ],
   "source": [
    "prediction = !gcloud ai-platform predict --model=$MODEL_NAME --json-instances=predictions.json --version=$VERSION_NAME\n",
    "print(prediction.s)"
   ]
  },
  {
   "cell_type": "code",
   "execution_count": null,
   "id": "ce1ced84-bf5d-4fc4-ab59-68703bd44076",
   "metadata": {},
   "outputs": [],
   "source": []
  }
 ],
 "metadata": {
  "environment": {
   "kernel": "python3",
   "name": "common-cpu.m103",
   "type": "gcloud",
   "uri": "gcr.io/deeplearning-platform-release/base-cpu:m103"
  },
  "kernelspec": {
   "display_name": "Python 3",
   "language": "python",
   "name": "python3"
  },
  "language_info": {
   "codemirror_mode": {
    "name": "ipython",
    "version": 3
   },
   "file_extension": ".py",
   "mimetype": "text/x-python",
   "name": "python",
   "nbconvert_exporter": "python",
   "pygments_lexer": "ipython3",
   "version": "3.7.12"
  }
 },
 "nbformat": 4,
 "nbformat_minor": 5
}
